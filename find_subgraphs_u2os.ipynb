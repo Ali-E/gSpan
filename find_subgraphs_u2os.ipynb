{
 "cells": [
  {
   "cell_type": "code",
   "execution_count": 1,
   "id": "a2b32d20-cd48-4912-8ed6-96f8cad35436",
   "metadata": {},
   "outputs": [],
   "source": [
    "from gspan_mining.config import parser\n",
    "from gspan_mining.main import main\n",
    "import numpy as np\n",
    "import sys\n",
    "egg_path='/gspan_mining.egg'\n",
    "\n",
    "sys.path.append(egg_path)"
   ]
  },
  {
   "cell_type": "code",
   "execution_count": 2,
   "id": "bc916f42-9dc4-41d9-85bf-9031b9b79b6e",
   "metadata": {},
   "outputs": [
    {
     "name": "stdout",
     "output_type": "stream",
     "text": [
      "Populating the interactive namespace from numpy and matplotlib\n"
     ]
    }
   ],
   "source": [
    "%pylab inline"
   ]
  },
  {
   "cell_type": "code",
   "execution_count": 3,
   "id": "1250a40c-7e1c-45b2-9d6e-6ba66808c8a9",
   "metadata": {},
   "outputs": [],
   "source": [
    "def is_clique(g):\n",
    "    vertices = g.vertices\n",
    "    deg_list = [len(vertices[v].edges) for v in vertices]\n",
    "    edge_count = int(np.sum(deg_list)//2)\n",
    "    v_count = len(vertices)\n",
    "    if edge_count == v_count*(v_count-1)/2:\n",
    "        return True\n",
    "    return False"
   ]
  },
  {
   "cell_type": "code",
   "execution_count": 4,
   "id": "4311afb8-10d5-456d-b3b4-f55c4c990e21",
   "metadata": {},
   "outputs": [],
   "source": [
    "def prob_format(g):\n",
    "    vertices = g.vertices\n",
    "    vertex_map = dict([(vertices[v].vid, vertices[v].vlb) for v in vertices])\n",
    "    # print(vertex_map)\n",
    "    edge_dict_lists = [vertices[v].edges for v in vertices]\n",
    "    all_edge_list = []\n",
    "    for edge_dict in edge_dict_lists:\n",
    "        for key in list(edge_dict.keys()):\n",
    "            new_edge = (edge_dict[key].frm, edge_dict[key].to)\n",
    "            all_edge_list.append(new_edge)\n",
    "            \n",
    "    G = nx.from_edgelist(all_edge_list)\n",
    "    adj_mat = nx.to_numpy_matrix(G)\n",
    "    np.fill_diagonal(adj_mat, 0)\n",
    "    return vertex_map, adj_mat "
   ]
  },
  {
   "cell_type": "code",
   "execution_count": 5,
   "id": "12c30dce-a81d-4904-90bc-c1acee6b4a0f",
   "metadata": {},
   "outputs": [],
   "source": [
    "def edge_count(g):\n",
    "    vertices = g.vertices\n",
    "    deg_list = [len(vertices[v].edges) for v in vertices]\n",
    "    edge_count = int(np.sum(deg_list)//2)\n",
    "    return edge_count"
   ]
  },
  {
   "cell_type": "code",
   "execution_count": 6,
   "id": "ed5271ce-94fd-433a-bb8f-ac7819af0e1c",
   "metadata": {},
   "outputs": [],
   "source": [
    "def node_count(g):\n",
    "    vertices = g.vertices\n",
    "    return len(vertices)"
   ]
  },
  {
   "cell_type": "code",
   "execution_count": 9,
   "id": "101a1d7e-4fb4-415f-9784-b2088efc6df5",
   "metadata": {},
   "outputs": [],
   "source": [
    "args_str = '-s 700 -d False -l 4 -e 5 -p False -w False -t False freq_subgraph_u2os/graph0.005.txt'\n",
    "FLAGS, _ = parser.parse_known_args(args=args_str.split())"
   ]
  },
  {
   "cell_type": "code",
   "execution_count": 10,
   "id": "b0d53733-9a28-4318-a125-df6e2b84f3b5",
   "metadata": {
    "tags": []
   },
   "outputs": [
    {
     "ename": "KeyboardInterrupt",
     "evalue": "",
     "output_type": "error",
     "traceback": [
      "\u001b[0;31m---------------------------------------------------------------------------\u001b[0m",
      "\u001b[0;31mKeyboardInterrupt\u001b[0m                         Traceback (most recent call last)",
      "\u001b[0;32m<ipython-input-10-7aaca1752110>\u001b[0m in \u001b[0;36m<module>\u001b[0;34m\u001b[0m\n\u001b[0;32m----> 1\u001b[0;31m \u001b[0mgs\u001b[0m \u001b[0;34m=\u001b[0m \u001b[0mmain\u001b[0m\u001b[0;34m(\u001b[0m\u001b[0mFLAGS\u001b[0m\u001b[0;34m)\u001b[0m\u001b[0;34m\u001b[0m\u001b[0;34m\u001b[0m\u001b[0m\n\u001b[0m",
      "\u001b[0;32m~/UIUC/research/spatial/Anu/freq_subgraph/gSpan/gspan_mining/main.py\u001b[0m in \u001b[0;36mmain\u001b[0;34m(FLAGS)\u001b[0m\n\u001b[1;32m     36\u001b[0m     )\n\u001b[1;32m     37\u001b[0m \u001b[0;34m\u001b[0m\u001b[0m\n\u001b[0;32m---> 38\u001b[0;31m     \u001b[0mgs\u001b[0m\u001b[0;34m.\u001b[0m\u001b[0mrun\u001b[0m\u001b[0;34m(\u001b[0m\u001b[0;34m)\u001b[0m\u001b[0;34m\u001b[0m\u001b[0;34m\u001b[0m\u001b[0m\n\u001b[0m\u001b[1;32m     39\u001b[0m     \u001b[0mgs\u001b[0m\u001b[0;34m.\u001b[0m\u001b[0mtime_stats\u001b[0m\u001b[0;34m(\u001b[0m\u001b[0;34m)\u001b[0m\u001b[0;34m\u001b[0m\u001b[0;34m\u001b[0m\u001b[0m\n\u001b[1;32m     40\u001b[0m     \u001b[0;32mreturn\u001b[0m \u001b[0mgs\u001b[0m\u001b[0;34m\u001b[0m\u001b[0;34m\u001b[0m\u001b[0m\n",
      "\u001b[0;32m~/UIUC/research/spatial/Anu/freq_subgraph/gSpan/gspan_mining/gspan.py\u001b[0m in \u001b[0;36mdeco\u001b[0;34m(self)\u001b[0m\n\u001b[1;32m     23\u001b[0m     \u001b[0;32mdef\u001b[0m \u001b[0mdeco\u001b[0m\u001b[0;34m(\u001b[0m\u001b[0mself\u001b[0m\u001b[0;34m)\u001b[0m\u001b[0;34m:\u001b[0m\u001b[0;34m\u001b[0m\u001b[0;34m\u001b[0m\u001b[0m\n\u001b[1;32m     24\u001b[0m         \u001b[0mself\u001b[0m\u001b[0;34m.\u001b[0m\u001b[0mtimestamps\u001b[0m\u001b[0;34m[\u001b[0m\u001b[0mfunc\u001b[0m\u001b[0;34m.\u001b[0m\u001b[0m__name__\u001b[0m \u001b[0;34m+\u001b[0m \u001b[0;34m'_in'\u001b[0m\u001b[0;34m]\u001b[0m \u001b[0;34m=\u001b[0m \u001b[0mtime\u001b[0m\u001b[0;34m.\u001b[0m\u001b[0mtime\u001b[0m\u001b[0;34m(\u001b[0m\u001b[0;34m)\u001b[0m\u001b[0;34m\u001b[0m\u001b[0;34m\u001b[0m\u001b[0m\n\u001b[0;32m---> 25\u001b[0;31m         \u001b[0mfunc\u001b[0m\u001b[0;34m(\u001b[0m\u001b[0mself\u001b[0m\u001b[0;34m)\u001b[0m\u001b[0;34m\u001b[0m\u001b[0;34m\u001b[0m\u001b[0m\n\u001b[0m\u001b[1;32m     26\u001b[0m         \u001b[0mself\u001b[0m\u001b[0;34m.\u001b[0m\u001b[0mtimestamps\u001b[0m\u001b[0;34m[\u001b[0m\u001b[0mfunc\u001b[0m\u001b[0;34m.\u001b[0m\u001b[0m__name__\u001b[0m \u001b[0;34m+\u001b[0m \u001b[0;34m'_out'\u001b[0m\u001b[0;34m]\u001b[0m \u001b[0;34m=\u001b[0m \u001b[0mtime\u001b[0m\u001b[0;34m.\u001b[0m\u001b[0mtime\u001b[0m\u001b[0;34m(\u001b[0m\u001b[0;34m)\u001b[0m\u001b[0;34m\u001b[0m\u001b[0;34m\u001b[0m\u001b[0m\n\u001b[1;32m     27\u001b[0m     \u001b[0;32mreturn\u001b[0m \u001b[0mdeco\u001b[0m\u001b[0;34m\u001b[0m\u001b[0;34m\u001b[0m\u001b[0m\n",
      "\u001b[0;32m~/UIUC/research/spatial/Anu/freq_subgraph/gSpan/gspan_mining/gspan.py\u001b[0m in \u001b[0;36mrun\u001b[0;34m(self)\u001b[0m\n\u001b[1;32m    319\u001b[0m         \u001b[0;32mfor\u001b[0m \u001b[0mvevlb\u001b[0m\u001b[0;34m,\u001b[0m \u001b[0mprojected\u001b[0m \u001b[0;32min\u001b[0m \u001b[0mroot\u001b[0m\u001b[0;34m.\u001b[0m\u001b[0mitems\u001b[0m\u001b[0;34m(\u001b[0m\u001b[0;34m)\u001b[0m\u001b[0;34m:\u001b[0m\u001b[0;34m\u001b[0m\u001b[0;34m\u001b[0m\u001b[0m\n\u001b[1;32m    320\u001b[0m             \u001b[0mself\u001b[0m\u001b[0;34m.\u001b[0m\u001b[0m_DFScode\u001b[0m\u001b[0;34m.\u001b[0m\u001b[0mappend\u001b[0m\u001b[0;34m(\u001b[0m\u001b[0mDFSedge\u001b[0m\u001b[0;34m(\u001b[0m\u001b[0;36m0\u001b[0m\u001b[0;34m,\u001b[0m \u001b[0;36m1\u001b[0m\u001b[0;34m,\u001b[0m \u001b[0mvevlb\u001b[0m\u001b[0;34m)\u001b[0m\u001b[0;34m)\u001b[0m\u001b[0;34m\u001b[0m\u001b[0;34m\u001b[0m\u001b[0m\n\u001b[0;32m--> 321\u001b[0;31m             \u001b[0mself\u001b[0m\u001b[0;34m.\u001b[0m\u001b[0m_subgraph_mining\u001b[0m\u001b[0;34m(\u001b[0m\u001b[0mprojected\u001b[0m\u001b[0;34m)\u001b[0m\u001b[0;34m\u001b[0m\u001b[0;34m\u001b[0m\u001b[0m\n\u001b[0m\u001b[1;32m    322\u001b[0m             \u001b[0mself\u001b[0m\u001b[0;34m.\u001b[0m\u001b[0m_DFScode\u001b[0m\u001b[0;34m.\u001b[0m\u001b[0mpop\u001b[0m\u001b[0;34m(\u001b[0m\u001b[0;34m)\u001b[0m\u001b[0;34m\u001b[0m\u001b[0;34m\u001b[0m\u001b[0m\n\u001b[1;32m    323\u001b[0m \u001b[0;34m\u001b[0m\u001b[0m\n",
      "\u001b[0;32m~/UIUC/research/spatial/Anu/freq_subgraph/gSpan/gspan_mining/gspan.py\u001b[0m in \u001b[0;36m_subgraph_mining\u001b[0;34m(self, projected)\u001b[0m\n\u001b[1;32m    594\u001b[0m                 (VACANT_VERTEX_LABEL, elb, vlb2))\n\u001b[1;32m    595\u001b[0m             )\n\u001b[0;32m--> 596\u001b[0;31m             \u001b[0mself\u001b[0m\u001b[0;34m.\u001b[0m\u001b[0m_subgraph_mining\u001b[0m\u001b[0;34m(\u001b[0m\u001b[0mforward_root\u001b[0m\u001b[0;34m[\u001b[0m\u001b[0;34m(\u001b[0m\u001b[0mfrm\u001b[0m\u001b[0;34m,\u001b[0m \u001b[0melb\u001b[0m\u001b[0;34m,\u001b[0m \u001b[0mvlb2\u001b[0m\u001b[0;34m)\u001b[0m\u001b[0;34m]\u001b[0m\u001b[0;34m)\u001b[0m\u001b[0;34m\u001b[0m\u001b[0;34m\u001b[0m\u001b[0m\n\u001b[0m\u001b[1;32m    597\u001b[0m             \u001b[0mself\u001b[0m\u001b[0;34m.\u001b[0m\u001b[0m_DFScode\u001b[0m\u001b[0;34m.\u001b[0m\u001b[0mpop\u001b[0m\u001b[0;34m(\u001b[0m\u001b[0;34m)\u001b[0m\u001b[0;34m\u001b[0m\u001b[0;34m\u001b[0m\u001b[0m\n\u001b[1;32m    598\u001b[0m \u001b[0;34m\u001b[0m\u001b[0m\n",
      "\u001b[0;32m~/UIUC/research/spatial/Anu/freq_subgraph/gSpan/gspan_mining/gspan.py\u001b[0m in \u001b[0;36m_subgraph_mining\u001b[0;34m(self, projected)\u001b[0m\n\u001b[1;32m    594\u001b[0m                 (VACANT_VERTEX_LABEL, elb, vlb2))\n\u001b[1;32m    595\u001b[0m             )\n\u001b[0;32m--> 596\u001b[0;31m             \u001b[0mself\u001b[0m\u001b[0;34m.\u001b[0m\u001b[0m_subgraph_mining\u001b[0m\u001b[0;34m(\u001b[0m\u001b[0mforward_root\u001b[0m\u001b[0;34m[\u001b[0m\u001b[0;34m(\u001b[0m\u001b[0mfrm\u001b[0m\u001b[0;34m,\u001b[0m \u001b[0melb\u001b[0m\u001b[0;34m,\u001b[0m \u001b[0mvlb2\u001b[0m\u001b[0;34m)\u001b[0m\u001b[0;34m]\u001b[0m\u001b[0;34m)\u001b[0m\u001b[0;34m\u001b[0m\u001b[0;34m\u001b[0m\u001b[0m\n\u001b[0m\u001b[1;32m    597\u001b[0m             \u001b[0mself\u001b[0m\u001b[0;34m.\u001b[0m\u001b[0m_DFScode\u001b[0m\u001b[0;34m.\u001b[0m\u001b[0mpop\u001b[0m\u001b[0;34m(\u001b[0m\u001b[0;34m)\u001b[0m\u001b[0;34m\u001b[0m\u001b[0;34m\u001b[0m\u001b[0m\n\u001b[1;32m    598\u001b[0m \u001b[0;34m\u001b[0m\u001b[0m\n",
      "\u001b[0;32m~/UIUC/research/spatial/Anu/freq_subgraph/gSpan/gspan_mining/gspan.py\u001b[0m in \u001b[0;36m_subgraph_mining\u001b[0;34m(self, projected)\u001b[0m\n\u001b[1;32m    594\u001b[0m                 (VACANT_VERTEX_LABEL, elb, vlb2))\n\u001b[1;32m    595\u001b[0m             )\n\u001b[0;32m--> 596\u001b[0;31m             \u001b[0mself\u001b[0m\u001b[0;34m.\u001b[0m\u001b[0m_subgraph_mining\u001b[0m\u001b[0;34m(\u001b[0m\u001b[0mforward_root\u001b[0m\u001b[0;34m[\u001b[0m\u001b[0;34m(\u001b[0m\u001b[0mfrm\u001b[0m\u001b[0;34m,\u001b[0m \u001b[0melb\u001b[0m\u001b[0;34m,\u001b[0m \u001b[0mvlb2\u001b[0m\u001b[0;34m)\u001b[0m\u001b[0;34m]\u001b[0m\u001b[0;34m)\u001b[0m\u001b[0;34m\u001b[0m\u001b[0;34m\u001b[0m\u001b[0m\n\u001b[0m\u001b[1;32m    597\u001b[0m             \u001b[0mself\u001b[0m\u001b[0;34m.\u001b[0m\u001b[0m_DFScode\u001b[0m\u001b[0;34m.\u001b[0m\u001b[0mpop\u001b[0m\u001b[0;34m(\u001b[0m\u001b[0;34m)\u001b[0m\u001b[0;34m\u001b[0m\u001b[0;34m\u001b[0m\u001b[0m\n\u001b[1;32m    598\u001b[0m \u001b[0;34m\u001b[0m\u001b[0m\n",
      "\u001b[0;32m~/UIUC/research/spatial/Anu/freq_subgraph/gSpan/gspan_mining/gspan.py\u001b[0m in \u001b[0;36m_subgraph_mining\u001b[0;34m(self, projected)\u001b[0m\n\u001b[1;32m    594\u001b[0m                 (VACANT_VERTEX_LABEL, elb, vlb2))\n\u001b[1;32m    595\u001b[0m             )\n\u001b[0;32m--> 596\u001b[0;31m             \u001b[0mself\u001b[0m\u001b[0;34m.\u001b[0m\u001b[0m_subgraph_mining\u001b[0m\u001b[0;34m(\u001b[0m\u001b[0mforward_root\u001b[0m\u001b[0;34m[\u001b[0m\u001b[0;34m(\u001b[0m\u001b[0mfrm\u001b[0m\u001b[0;34m,\u001b[0m \u001b[0melb\u001b[0m\u001b[0;34m,\u001b[0m \u001b[0mvlb2\u001b[0m\u001b[0;34m)\u001b[0m\u001b[0;34m]\u001b[0m\u001b[0;34m)\u001b[0m\u001b[0;34m\u001b[0m\u001b[0;34m\u001b[0m\u001b[0m\n\u001b[0m\u001b[1;32m    597\u001b[0m             \u001b[0mself\u001b[0m\u001b[0;34m.\u001b[0m\u001b[0m_DFScode\u001b[0m\u001b[0;34m.\u001b[0m\u001b[0mpop\u001b[0m\u001b[0;34m(\u001b[0m\u001b[0;34m)\u001b[0m\u001b[0;34m\u001b[0m\u001b[0;34m\u001b[0m\u001b[0m\n\u001b[1;32m    598\u001b[0m \u001b[0;34m\u001b[0m\u001b[0m\n",
      "\u001b[0;32m~/UIUC/research/spatial/Anu/freq_subgraph/gSpan/gspan_mining/gspan.py\u001b[0m in \u001b[0;36m_subgraph_mining\u001b[0;34m(self, projected)\u001b[0m\n\u001b[1;32m    568\u001b[0m             \u001b[0;31m# rmpath forward\u001b[0m\u001b[0;34m\u001b[0m\u001b[0;34m\u001b[0m\u001b[0m\n\u001b[1;32m    569\u001b[0m             \u001b[0;32mfor\u001b[0m \u001b[0mrmpath_i\u001b[0m \u001b[0;32min\u001b[0m \u001b[0mrmpath\u001b[0m\u001b[0;34m:\u001b[0m\u001b[0;34m\u001b[0m\u001b[0;34m\u001b[0m\u001b[0m\n\u001b[0;32m--> 570\u001b[0;31m                 edges = self._get_forward_rmpath_edges(g,\n\u001b[0m\u001b[1;32m    571\u001b[0m                                                        \u001b[0mhistory\u001b[0m\u001b[0;34m.\u001b[0m\u001b[0medges\u001b[0m\u001b[0;34m[\u001b[0m\u001b[0mrmpath_i\u001b[0m\u001b[0;34m]\u001b[0m\u001b[0;34m,\u001b[0m\u001b[0;34m\u001b[0m\u001b[0;34m\u001b[0m\u001b[0m\n\u001b[1;32m    572\u001b[0m                                                        \u001b[0mmin_vlb\u001b[0m\u001b[0;34m,\u001b[0m\u001b[0;34m\u001b[0m\u001b[0;34m\u001b[0m\u001b[0m\n",
      "\u001b[0;32m~/UIUC/research/spatial/Anu/freq_subgraph/gSpan/gspan_mining/gspan.py\u001b[0m in \u001b[0;36m_get_forward_rmpath_edges\u001b[0;34m(self, g, rm_edge, min_vlb, history)\u001b[0m\n\u001b[1;32m    411\u001b[0m         \u001b[0mresult\u001b[0m \u001b[0;34m=\u001b[0m \u001b[0;34m[\u001b[0m\u001b[0;34m]\u001b[0m\u001b[0;34m\u001b[0m\u001b[0;34m\u001b[0m\u001b[0m\n\u001b[1;32m    412\u001b[0m         \u001b[0mto_vlb\u001b[0m \u001b[0;34m=\u001b[0m \u001b[0mg\u001b[0m\u001b[0;34m.\u001b[0m\u001b[0mvertices\u001b[0m\u001b[0;34m[\u001b[0m\u001b[0mrm_edge\u001b[0m\u001b[0;34m.\u001b[0m\u001b[0mto\u001b[0m\u001b[0;34m]\u001b[0m\u001b[0;34m.\u001b[0m\u001b[0mvlb\u001b[0m\u001b[0;34m\u001b[0m\u001b[0;34m\u001b[0m\u001b[0m\n\u001b[0;32m--> 413\u001b[0;31m         \u001b[0;32mfor\u001b[0m \u001b[0mto\u001b[0m\u001b[0;34m,\u001b[0m \u001b[0me\u001b[0m \u001b[0;32min\u001b[0m \u001b[0mg\u001b[0m\u001b[0;34m.\u001b[0m\u001b[0mvertices\u001b[0m\u001b[0;34m[\u001b[0m\u001b[0mrm_edge\u001b[0m\u001b[0;34m.\u001b[0m\u001b[0mfrm\u001b[0m\u001b[0;34m]\u001b[0m\u001b[0;34m.\u001b[0m\u001b[0medges\u001b[0m\u001b[0;34m.\u001b[0m\u001b[0mitems\u001b[0m\u001b[0;34m(\u001b[0m\u001b[0;34m)\u001b[0m\u001b[0;34m:\u001b[0m\u001b[0;34m\u001b[0m\u001b[0;34m\u001b[0m\u001b[0m\n\u001b[0m\u001b[1;32m    414\u001b[0m             \u001b[0mnew_to_vlb\u001b[0m \u001b[0;34m=\u001b[0m \u001b[0mg\u001b[0m\u001b[0;34m.\u001b[0m\u001b[0mvertices\u001b[0m\u001b[0;34m[\u001b[0m\u001b[0mto\u001b[0m\u001b[0;34m]\u001b[0m\u001b[0;34m.\u001b[0m\u001b[0mvlb\u001b[0m\u001b[0;34m\u001b[0m\u001b[0;34m\u001b[0m\u001b[0m\n\u001b[1;32m    415\u001b[0m             if (rm_edge.to == e.to or\n",
      "\u001b[0;31mKeyboardInterrupt\u001b[0m: "
     ]
    }
   ],
   "source": [
    "gs = main(FLAGS)"
   ]
  },
  {
   "cell_type": "code",
   "execution_count": null,
   "id": "b2569db8-e12c-4e19-9baa-cb464937e968",
   "metadata": {},
   "outputs": [],
   "source": [
    "filtered_subgraphs = gs.filtered_subgraphs"
   ]
  },
  {
   "cell_type": "code",
   "execution_count": null,
   "id": "d4cb790c-d72f-4630-8098-67879eda8bed",
   "metadata": {
    "tags": []
   },
   "outputs": [],
   "source": [
    "cliques = []\n",
    "for g, support in filtered_subgraphs:\n",
    "    if is_clique(g):\n",
    "        cliques.append((g, support))  \n",
    "        vertex_map, adj_mat  = prob_format(g)\n",
    "        print(adj_mat)\n",
    "        print(vertex_map)"
   ]
  },
  {
   "cell_type": "code",
   "execution_count": null,
   "id": "e217916d-bb75-4951-990a-6fe6e4dd834c",
   "metadata": {},
   "outputs": [],
   "source": [
    "for g, support in cliques:\n",
    "    g.plot()\n",
    "    print('Support: ', support)"
   ]
  },
  {
   "cell_type": "code",
   "execution_count": null,
   "id": "5c2650f6-01cf-4c5f-a448-d02342fa435c",
   "metadata": {
    "tags": []
   },
   "outputs": [],
   "source": [
    "support_list = []\n",
    "for g, support in filtered_subgraphs:\n",
    "    v_count = node_count(g)\n",
    "    if v_count > 4 and edge_count(g) > v_count*(v_count-1)//3:\n",
    "        g.plot()\n",
    "        support_list.append(support)\n",
    "        print(support)"
   ]
  },
  {
   "cell_type": "code",
   "execution_count": null,
   "id": "9240ab51-bb2b-4a83-bbad-ee24bb550dda",
   "metadata": {},
   "outputs": [],
   "source": [
    "plt.hist(support_list, bins=15)"
   ]
  },
  {
   "cell_type": "markdown",
   "id": "909b7310-ee38-4e8e-a953-bd78c4f57252",
   "metadata": {},
   "source": [
    "# Random graph:"
   ]
  },
  {
   "cell_type": "code",
   "execution_count": 79,
   "id": "aa45afad-5f58-4fdd-a4dc-5c1fa0ec96ae",
   "metadata": {},
   "outputs": [],
   "source": [
    "args_str = '-s 2 -d False -l 3 -e 2 -p False -w False -t False freq_subgraph_rand_u2os/graph0.05.txt'\n",
    "FLAGS, _ = parser.parse_known_args(args=args_str.split())"
   ]
  },
  {
   "cell_type": "code",
   "execution_count": 80,
   "id": "997b16e1-b3fc-45ce-9b93-d6eb8023f41b",
   "metadata": {},
   "outputs": [
    {
     "name": "stdout",
     "output_type": "stream",
     "text": [
      "Read:\t20.71 s\n",
      "Mine:\t1.4499999999999993 s\n",
      "Total:\t22.16 s\n"
     ]
    }
   ],
   "source": [
    "gs_rand = main(FLAGS)"
   ]
  },
  {
   "cell_type": "code",
   "execution_count": 81,
   "id": "ca2c69c4-58da-446f-b26f-3a5587aafe66",
   "metadata": {},
   "outputs": [],
   "source": [
    "filtered_subgraphs_rand = gs_rand.filtered_subgraphs"
   ]
  },
  {
   "cell_type": "code",
   "execution_count": 82,
   "id": "9ba5cb96-445f-48aa-b067-eddab15f5e75",
   "metadata": {},
   "outputs": [],
   "source": [
    "cliques = []\n",
    "for g, support in filtered_subgraphs_rand:\n",
    "    if is_clique(g):\n",
    "        cliques.append((g, support)) "
   ]
  },
  {
   "cell_type": "code",
   "execution_count": 83,
   "id": "105c672b-e5bf-40e2-b2b2-f3eab817b2c7",
   "metadata": {
    "tags": []
   },
   "outputs": [],
   "source": [
    "for g, support in cliques:\n",
    "    g.plot()\n",
    "    print('Support: ', support)"
   ]
  },
  {
   "cell_type": "code",
   "execution_count": 84,
   "id": "25fb2205-b904-4d16-a64a-5f477be40643",
   "metadata": {},
   "outputs": [],
   "source": [
    "support_list = []\n",
    "for g, support in filtered_subgraphs_rand:\n",
    "    v_count = node_count(g)\n",
    "    if v_count > 3 and edge_count(g) > v_count*(v_count-1)//3:\n",
    "        g.plot()\n",
    "        support_list.append(support)\n",
    "        print(support)"
   ]
  },
  {
   "cell_type": "code",
   "execution_count": 85,
   "id": "a24f9653-8fe1-4c67-aaa4-7b7e123c2183",
   "metadata": {},
   "outputs": [
    {
     "name": "stdout",
     "output_type": "stream",
     "text": [
      "Support:  2\n"
     ]
    },
    {
     "data": {
      "text/plain": [
       "<Figure size 216x216 with 0 Axes>"
      ]
     },
     "metadata": {},
     "output_type": "display_data"
    },
    {
     "data": {
      "image/png": "[encoded data removed]",
      "text/plain": [
       "<Figure size 432x288 with 1 Axes>"
      ]
     },
     "metadata": {},
     "output_type": "display_data"
    },
    {
     "name": "stdout",
     "output_type": "stream",
     "text": [
      "Support:  2\n"
     ]
    },
    {
     "data": {
      "text/plain": [
       "<Figure size 216x216 with 0 Axes>"
      ]
     },
     "metadata": {},
     "output_type": "display_data"
    },
    {
     "data": {
      "image/png": "[encoded data removed]",
      "text/plain": [
       "<Figure size 432x288 with 1 Axes>"
      ]
     },
     "metadata": {},
     "output_type": "display_data"
    },
    {
     "name": "stdout",
     "output_type": "stream",
     "text": [
      "Support:  2\n"
     ]
    },
    {
     "data": {
      "text/plain": [
       "<Figure size 216x216 with 0 Axes>"
      ]
     },
     "metadata": {},
     "output_type": "display_data"
    },
    {
     "data": {
      "image/png": "[encoded data removed]",
      "text/plain": [
       "<Figure size 432x288 with 1 Axes>"
      ]
     },
     "metadata": {},
     "output_type": "display_data"
    },
    {
     "name": "stdout",
     "output_type": "stream",
     "text": [
      "Support:  2\n"
     ]
    },
    {
     "data": {
      "text/plain": [
       "<Figure size 216x216 with 0 Axes>"
      ]
     },
     "metadata": {},
     "output_type": "display_data"
    },
    {
     "data": {
      "image/png": "[encoded data removed]",
      "text/plain": [
       "<Figure size 432x288 with 1 Axes>"
      ]
     },
     "metadata": {},
     "output_type": "display_data"
    },
    {
     "name": "stdout",
     "output_type": "stream",
     "text": [
      "Support:  2\n"
     ]
    },
    {
     "data": {
      "text/plain": [
       "<Figure size 216x216 with 0 Axes>"
      ]
     },
     "metadata": {},
     "output_type": "display_data"
    },
    {
     "data": {
      "image/png": "[encoded data removed]",
      "text/plain": [
       "<Figure size 432x288 with 1 Axes>"
      ]
     },
     "metadata": {},
     "output_type": "display_data"
    },
    {
     "name": "stdout",
     "output_type": "stream",
     "text": [
      "Support:  2\n"
     ]
    },
    {
     "data": {
      "text/plain": [
       "<Figure size 216x216 with 0 Axes>"
      ]
     },
     "metadata": {},
     "output_type": "display_data"
    },
    {
     "data": {
      "image/png": "[encoded data removed]",
      "text/plain": [
       "<Figure size 432x288 with 1 Axes>"
      ]
     },
     "metadata": {},
     "output_type": "display_data"
    },
    {
     "name": "stdout",
     "output_type": "stream",
     "text": [
      "Support:  2\n"
     ]
    },
    {
     "data": {
      "text/plain": [
       "<Figure size 216x216 with 0 Axes>"
      ]
     },
     "metadata": {},
     "output_type": "display_data"
    },
    {
     "data": {
      "image/png": "[encoded data removed]",
      "text/plain": [
       "<Figure size 432x288 with 1 Axes>"
      ]
     },
     "metadata": {},
     "output_type": "display_data"
    },
    {
     "name": "stdout",
     "output_type": "stream",
     "text": [
      "Support:  2\n"
     ]
    },
    {
     "data": {
      "text/plain": [
       "<Figure size 216x216 with 0 Axes>"
      ]
     },
     "metadata": {},
     "output_type": "display_data"
    },
    {
     "data": {
      "image/png": "[encoded data removed]",
      "text/plain": [
       "<Figure size 432x288 with 1 Axes>"
      ]
     },
     "metadata": {},
     "output_type": "display_data"
    },
    {
     "name": "stdout",
     "output_type": "stream",
     "text": [
      "Support:  2\n"
     ]
    },
    {
     "data": {
      "text/plain": [
       "<Figure size 216x216 with 0 Axes>"
      ]
     },
     "metadata": {},
     "output_type": "display_data"
    },
    {
     "data": {
      "image/png": "[encoded data removed]",
      "text/plain": [
       "<Figure size 432x288 with 1 Axes>"
      ]
     },
     "metadata": {},
     "output_type": "display_data"
    },
    {
     "name": "stdout",
     "output_type": "stream",
     "text": [
      "Support:  3\n"
     ]
    },
    {
     "data": {
      "text/plain": [
       "<Figure size 216x216 with 0 Axes>"
      ]
     },
     "metadata": {},
     "output_type": "display_data"
    },
    {
     "data": {
      "image/png": "[encoded data removed]",
      "text/plain": [
       "<Figure size 432x288 with 1 Axes>"
      ]
     },
     "metadata": {},
     "output_type": "display_data"
    },
    {
     "name": "stdout",
     "output_type": "stream",
     "text": [
      "Support:  2\n"
     ]
    },
    {
     "data": {
      "text/plain": [
       "<Figure size 216x216 with 0 Axes>"
      ]
     },
     "metadata": {},
     "output_type": "display_data"
    },
    {
     "data": {
      "image/png": "[encoded data removed]",
      "text/plain": [
       "<Figure size 432x288 with 1 Axes>"
      ]
     },
     "metadata": {},
     "output_type": "display_data"
    },
    {
     "name": "stdout",
     "output_type": "stream",
     "text": [
      "Support:  2\n"
     ]
    },
    {
     "data": {
      "text/plain": [
       "<Figure size 216x216 with 0 Axes>"
      ]
     },
     "metadata": {},
     "output_type": "display_data"
    },
    {
     "data": {
      "image/png": "[encoded data removed]",
      "text/plain": [
       "<Figure size 432x288 with 1 Axes>"
      ]
     },
     "metadata": {},
     "output_type": "display_data"
    },
    {
     "name": "stdout",
     "output_type": "stream",
     "text": [
      "Support:  2\n"
     ]
    },
    {
     "data": {
      "text/plain": [
       "<Figure size 216x216 with 0 Axes>"
      ]
     },
     "metadata": {},
     "output_type": "display_data"
    },
    {
     "data": {
      "image/png": "[encoded data removed]",
      "text/plain": [
       "<Figure size 432x288 with 1 Axes>"
      ]
     },
     "metadata": {},
     "output_type": "display_data"
    },
    {
     "name": "stdout",
     "output_type": "stream",
     "text": [
      "Support:  2\n"
     ]
    },
    {
     "data": {
      "text/plain": [
       "<Figure size 216x216 with 0 Axes>"
      ]
     },
     "metadata": {},
     "output_type": "display_data"
    },
    {
     "data": {
      "image/png": "[encoded data removed]",
      "text/plain": [
       "<Figure size 432x288 with 1 Axes>"
      ]
     },
     "metadata": {},
     "output_type": "display_data"
    },
    {
     "name": "stdout",
     "output_type": "stream",
     "text": [
      "Support:  2\n"
     ]
    },
    {
     "data": {
      "text/plain": [
       "<Figure size 216x216 with 0 Axes>"
      ]
     },
     "metadata": {},
     "output_type": "display_data"
    },
    {
     "data": {
      "image/png": "[encoded data removed]",
      "text/plain": [
       "<Figure size 432x288 with 1 Axes>"
      ]
     },
     "metadata": {},
     "output_type": "display_data"
    },
    {
     "name": "stdout",
     "output_type": "stream",
     "text": [
      "Support:  2\n"
     ]
    },
    {
     "data": {
      "text/plain": [
       "<Figure size 216x216 with 0 Axes>"
      ]
     },
     "metadata": {},
     "output_type": "display_data"
    },
    {
     "data": {
      "image/png": "[encoded data removed]",
      "text/plain": [
       "<Figure size 432x288 with 1 Axes>"
      ]
     },
     "metadata": {},
     "output_type": "display_data"
    },
    {
     "name": "stdout",
     "output_type": "stream",
     "text": [
      "Support:  2\n"
     ]
    },
    {
     "data": {
      "text/plain": [
       "<Figure size 216x216 with 0 Axes>"
      ]
     },
     "metadata": {},
     "output_type": "display_data"
    },
    {
     "data": {
      "image/png": "[encoded data removed]",
      "text/plain": [
       "<Figure size 432x288 with 1 Axes>"
      ]
     },
     "metadata": {},
     "output_type": "display_data"
    },
    {
     "name": "stdout",
     "output_type": "stream",
     "text": [
      "Support:  2\n"
     ]
    },
    {
     "data": {
      "text/plain": [
       "<Figure size 216x216 with 0 Axes>"
      ]
     },
     "metadata": {},
     "output_type": "display_data"
    },
    {
     "data": {
      "image/png": "[encoded data removed]",
      "text/plain": [
       "<Figure size 432x288 with 1 Axes>"
      ]
     },
     "metadata": {},
     "output_type": "display_data"
    },
    {
     "name": "stdout",
     "output_type": "stream",
     "text": [
      "Support:  2\n"
     ]
    },
    {
     "data": {
      "text/plain": [
       "<Figure size 216x216 with 0 Axes>"
      ]
     },
     "metadata": {},
     "output_type": "display_data"
    },
    {
     "data": {
      "image/png": "[encoded data removed]",
      "text/plain": [
       "<Figure size 432x288 with 1 Axes>"
      ]
     },
     "metadata": {},
     "output_type": "display_data"
    },
    {
     "name": "stdout",
     "output_type": "stream",
     "text": [
      "Support:  2\n"
     ]
    },
    {
     "data": {
      "text/plain": [
       "<Figure size 216x216 with 0 Axes>"
      ]
     },
     "metadata": {},
     "output_type": "display_data"
    },
    {
     "data": {
      "image/png": "[encoded data removed]",
      "text/plain": [
       "<Figure size 432x288 with 1 Axes>"
      ]
     },
     "metadata": {},
     "output_type": "display_data"
    },
    {
     "name": "stdout",
     "output_type": "stream",
     "text": [
      "Support:  2\n"
     ]
    },
    {
     "data": {
      "text/plain": [
       "<Figure size 216x216 with 0 Axes>"
      ]
     },
     "metadata": {},
     "output_type": "display_data"
    },
    {
     "data": {
      "image/png": "[encoded data removed]",
      "text/plain": [
       "<Figure size 432x288 with 1 Axes>"
      ]
     },
     "metadata": {},
     "output_type": "display_data"
    },
    {
     "name": "stdout",
     "output_type": "stream",
     "text": [
      "Support:  2\n"
     ]
    },
    {
     "data": {
      "text/plain": [
       "<Figure size 216x216 with 0 Axes>"
      ]
     },
     "metadata": {},
     "output_type": "display_data"
    },
    {
     "data": {
      "image/png": "[encoded data removed]",
      "text/plain": [
       "<Figure size 432x288 with 1 Axes>"
      ]
     },
     "metadata": {},
     "output_type": "display_data"
    },
    {
     "name": "stdout",
     "output_type": "stream",
     "text": [
      "Support:  2\n"
     ]
    },
    {
     "data": {
      "text/plain": [
       "<Figure size 216x216 with 0 Axes>"
      ]
     },
     "metadata": {},
     "output_type": "display_data"
    },
    {
     "data": {
      "image/png": "[encoded data removed]",
      "text/plain": [
       "<Figure size 432x288 with 1 Axes>"
      ]
     },
     "metadata": {},
     "output_type": "display_data"
    }
   ],
   "source": [
    "for g, s in filtered_subgraphs_rand:\n",
    "    if s > 1:\n",
    "        print('Support: ', s)\n",
    "        g.plot()"
   ]
  },
  {
   "cell_type": "code",
   "execution_count": null,
   "id": "38c862ca-c39d-46f5-868a-dbd5f2338b59",
   "metadata": {},
   "outputs": [],
   "source": []
  }
 ],
 "metadata": {
  "kernelspec": {
   "display_name": "Python 3",
   "language": "python",
   "name": "python3"
  },
  "language_info": {
   "codemirror_mode": {
    "name": "ipython",
    "version": 3
   },
   "file_extension": ".py",
   "mimetype": "text/x-python",
   "name": "python",
   "nbconvert_exporter": "python",
   "pygments_lexer": "ipython3",
   "version": "3.9.10"
  }
 },
 "nbformat": 4,
 "nbformat_minor": 5
}
