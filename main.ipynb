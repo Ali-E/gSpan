{
 "cells": [
  {
   "cell_type": "code",
   "execution_count": 1,
   "metadata": {
    "collapsed": false
   },
   "outputs": [],
   "source": [
    "# !/usr/bin/python\n",
    "# coding=utf-8\n",
    "import os, sys, getopt\n",
    "from gspan import gSpan"
   ]
  },
  {
   "cell_type": "code",
   "execution_count": 2,
   "metadata": {
    "collapsed": true
   },
   "outputs": [],
   "source": [
    "default_args = {'-n':float('inf'), '-s':10, '-l':2, '-u':float('inf'), '-d':0, 'database_file_name':'graphdata/graph.data'}\n",
    "def usage():\n",
    "    pass\n",
    "\n",
    "def parse_args(args, default_args):\n",
    "    optlist, args = getopt.getopt(args, 'n:s:l:u:d')\n",
    "    opt_dict = {k:v for k, v in optlist}\n",
    "    opt_dict['-d'] = 0 if '-d' not in opt_dict else 1\n",
    "    try:\n",
    "        for k in default_args:\n",
    "            opt_dict[k] = default_args[k] if k not in opt_dict else int(opt_dict[k])\n",
    "        opt_dict['database_file_name'] = default_args['database_file_name'] if len(args) == 0 else args[0]\n",
    "        return opt_dict\n",
    "    except Exception:\n",
    "        usage()\n",
    "        exit()"
   ]
  },
  {
   "cell_type": "code",
   "execution_count": 3,
   "metadata": {
    "collapsed": false
   },
   "outputs": [
    {
     "data": {
      "text/plain": [
       "{'-d': 0,\n",
       " '-l': 2,\n",
       " '-n': 2,\n",
       " '-s': 2,\n",
       " '-u': 3,\n",
       " 'database_file_name': 'graphdata/graph.data'}"
      ]
     },
     "execution_count": 3,
     "metadata": {},
     "output_type": "execute_result"
    }
   ],
   "source": [
    "args = '-n 2 -s 2 -l 2 -u 3'.split()\n",
    "opt_dict = parse_args(args, default_args)\n",
    "opt_dict"
   ]
  },
  {
   "cell_type": "code",
   "execution_count": 4,
   "metadata": {
    "collapsed": false
   },
   "outputs": [],
   "source": [
    "if not os.path.exists(opt_dict['database_file_name']):\n",
    "    print '{} does not exist.'.format(opt_dict['database_file_name'])"
   ]
  },
  {
   "cell_type": "code",
   "execution_count": null,
   "metadata": {
    "collapsed": false
   },
   "outputs": [],
   "source": [
    "gs = gSpan(database_file_name = opt_dict['database_file_name'], min_support = opt_dict['-s'],\n",
    "    min_num_vertices = opt_dict['-l'], max_num_vertices = opt_dict['-u'], \n",
    "    max_ngraphs = opt_dict['-n'], is_undirected = opt_dict['-d'] == 0)\n",
    "gs.run()"
   ]
  },
  {
   "cell_type": "code",
   "execution_count": null,
   "metadata": {
    "collapsed": false
   },
   "outputs": [],
   "source": [
    "for g in gs.graphs.values():\n",
    "    g.display()"
   ]
  }
 ],
 "metadata": {
  "kernelspec": {
   "display_name": "Python [Root]",
   "language": "python",
   "name": "Python [Root]"
  },
  "language_info": {
   "codemirror_mode": {
    "name": "ipython",
    "version": 2
   },
   "file_extension": ".py",
   "mimetype": "text/x-python",
   "name": "python",
   "nbconvert_exporter": "python",
   "pygments_lexer": "ipython2",
   "version": "2.7.12"
  }
 },
 "nbformat": 4,
 "nbformat_minor": 0
}
